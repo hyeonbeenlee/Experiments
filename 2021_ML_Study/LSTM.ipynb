{
 "cells": [
  {
   "cell_type": "code",
   "execution_count": 1,
   "id": "dcee14aa-55da-468a-92e4-9d449df9c400",
   "metadata": {},
   "outputs": [
    {
     "name": "stdout",
     "output_type": "stream",
     "text": [
      "               High      Low     Open    Close      Volume     Adj Close\n",
      "Date                                                                    \n",
      "2000-01-04   6110.0   5660.0   6000.0   6110.0  74195000.0   4719.226074\n",
      "2000-01-05   6060.0   5520.0   5800.0   5580.0  74680000.0   4309.866211\n",
      "2000-01-06   5780.0   5580.0   5750.0   5620.0  54390000.0   4340.761230\n",
      "2000-01-07   5670.0   5360.0   5560.0   5540.0  40305000.0   4278.971680\n",
      "2000-01-10   5770.0   5580.0   5600.0   5770.0  46880000.0   4456.618652\n",
      "...             ...      ...      ...      ...         ...           ...\n",
      "2021-09-13  76300.0  75100.0  75200.0  76300.0  11397775.0  76300.000000\n",
      "2021-09-14  77700.0  76600.0  77100.0  76600.0  18167057.0  76600.000000\n",
      "2021-09-15  77400.0  76400.0  77400.0  77000.0  12829128.0  77000.000000\n",
      "2021-09-16  77400.0  76100.0  77300.0  76100.0  13067622.0  76100.000000\n",
      "2021-09-17  77200.0  75900.0  76300.0  77200.0  16289502.0  77200.000000\n",
      "\n",
      "[5453 rows x 6 columns]\n"
     ]
    }
   ],
   "source": [
    "import pandas_datareader as pdr\n",
    "import datetime\n",
    "\n",
    "Start=datetime.date(2000,1,1)\n",
    "End=datetime.date.today()\n",
    "Data=pdr.data.DataReader('005930.KS','yahoo',Start,End)\n",
    "print(Data) #종가"
   ]
  }
 ],
 "metadata": {
  "kernelspec": {
   "display_name": "veeenie",
   "language": "python",
   "name": "veeenie"
  },
  "language_info": {
   "codemirror_mode": {
    "name": "ipython",
    "version": 3
   },
   "file_extension": ".py",
   "mimetype": "text/x-python",
   "name": "python",
   "nbconvert_exporter": "python",
   "pygments_lexer": "ipython3",
   "version": "3.8.10"
  }
 },
 "nbformat": 4,
 "nbformat_minor": 5
}
